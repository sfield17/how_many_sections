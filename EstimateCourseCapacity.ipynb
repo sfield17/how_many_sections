{
 "cells": [
  {
   "cell_type": "markdown",
   "id": "914f458c",
   "metadata": {},
   "source": [
    "## Estimate the number of sections we need for the data science program.\n",
    "\n",
    "Current limitations/assumptions.:\n",
    "\n",
    " 1. Classes like MTH 522 and CIS 552, for example, are used by multiple programs. This analysis assumes no students from non-DSC programs are enrolling in the class under consideration. This is a major limitation, but I don't have that data.\n",
    " 2. for the class under consideration, I assume 75% of current students will/should be taking that class next Spring\n",
    " 3.for the class under consideration, I assume 40% of new Spring 2023 students will/should be taking that class next Spring\n"
   ]
  },
  {
   "cell_type": "code",
   "execution_count": 2,
   "id": "63ed4f5a",
   "metadata": {},
   "outputs": [],
   "source": [
    "# function needed later on\n",
    "def sections_needed(seats_per_section, seats_required):\n",
    "    \"\"\" estimate the number of sections based on.\n",
    "    INPUT\n",
    "    =====\n",
    "    seats_per_section: enrollment caps\n",
    "    seats_required:    projected number of students needins that class next semester\n",
    "    \"\"\"\n",
    "    \n",
    "    i=0\n",
    "    excess_seats = -1\n",
    "    while  excess_seats < 0:\n",
    "        excess_seats = seats_per_section*i - seats_required\n",
    "        i = i + 1\n",
    "    return i-1"
   ]
  },
  {
   "cell_type": "code",
   "execution_count": 6,
   "id": "aa4a1b53",
   "metadata": {},
   "outputs": [
    {
     "name": "stdout",
     "output_type": "stream",
     "text": [
      "Assuming 50 students enroll in the spring...\n",
      "course MTH522 has 33 data science students who need a spot. Needs 1 sections\n",
      "course DSC520 has 33 data science students who need a spot. Needs 1 sections\n",
      "course CIS552 has 46 data science students who need a spot. Needs 1 sections\n",
      "\n",
      "\n",
      "Assuming 60 students enroll in the spring...\n",
      "course MTH522 has 37 data science students who need a spot. Needs 2 sections\n",
      "course DSC520 has 37 data science students who need a spot. Needs 2 sections\n",
      "course CIS552 has 50 data science students who need a spot. Needs 1 sections\n",
      "\n",
      "\n",
      "Assuming 70 students enroll in the spring...\n",
      "course MTH522 has 41 data science students who need a spot. Needs 2 sections\n",
      "course DSC520 has 41 data science students who need a spot. Needs 2 sections\n",
      "course CIS552 has 54 data science students who need a spot. Needs 2 sections\n",
      "\n",
      "\n",
      "Assuming 80 students enroll in the spring...\n",
      "course MTH522 has 45 data science students who need a spot. Needs 2 sections\n",
      "course DSC520 has 45 data science students who need a spot. Needs 2 sections\n",
      "course CIS552 has 58 data science students who need a spot. Needs 2 sections\n",
      "\n",
      "\n",
      "Assuming 90 students enroll in the spring...\n",
      "course MTH522 has 49 data science students who need a spot. Needs 2 sections\n",
      "course DSC520 has 49 data science students who need a spot. Needs 2 sections\n",
      "course CIS552 has 62 data science students who need a spot. Needs 2 sections\n",
      "\n",
      "\n",
      "Assuming 100 students enroll in the spring...\n",
      "course MTH522 has 53 data science students who need a spot. Needs 2 sections\n",
      "course DSC520 has 53 data science students who need a spot. Needs 2 sections\n",
      "course CIS552 has 66 data science students who need a spot. Needs 2 sections\n",
      "\n",
      "\n"
     ]
    }
   ],
   "source": [
    "# User settings and input\n",
    "\n",
    "### courses that current students still need to take ###\n",
    "\n",
    "current_students={}\n",
    "current_students[\"MTH522\"]           = 17\n",
    "current_students[\"DSC520\"]           = 17\n",
    "current_students[\"CIS552\"]           = 35\n",
    "factor_current = .75 # % of current students who will need to take the class in question next semester\n",
    "\n",
    "### typical capacity for a single section\n",
    "# COIN quoted capacity + 3 (usually a few extra can be snuck in)\n",
    "course_capacity={}\n",
    "course_capacity[\"MTH522\"] = 32 + 3\n",
    "course_capacity[\"DSC520\"] = 32 + 3\n",
    "course_capacity[\"CIS552\"] = 50 + 3\n",
    "\n",
    "### Estimates for incoming class ###\n",
    "factor_future  = .4 # % of next semesters admits who will need to take the class in question next semester\n",
    "Spring2023s = [50, 60, 70, 80, 90, 100]  # possible values\n",
    "\n",
    "\n",
    "for Spring2023 in Spring2023s:\n",
    "    print(\"Assuming %i students enroll in the spring...\"%Spring2023)\n",
    "    for course, filled_seats in current_students.items():\n",
    "        total_seats = round(filled_seats*factor_current + Spring2023*factor_future) #+ Fall2023\n",
    "        sections = sections_needed(course_capacity[course], total_seats)\n",
    "        print(\"course %s has %i data science students who need a spot. Needs %i sections\"%(course, total_seats,sections))\n",
    "    print(\"\\n\")"
   ]
  },
  {
   "cell_type": "code",
   "execution_count": null,
   "id": "ea2cb315",
   "metadata": {},
   "outputs": [],
   "source": []
  }
 ],
 "metadata": {
  "kernelspec": {
   "display_name": "Python 3 (ipykernel)",
   "language": "python",
   "name": "python3"
  },
  "language_info": {
   "codemirror_mode": {
    "name": "ipython",
    "version": 3
   },
   "file_extension": ".py",
   "mimetype": "text/x-python",
   "name": "python",
   "nbconvert_exporter": "python",
   "pygments_lexer": "ipython3",
   "version": "3.9.13"
  }
 },
 "nbformat": 4,
 "nbformat_minor": 5
}
